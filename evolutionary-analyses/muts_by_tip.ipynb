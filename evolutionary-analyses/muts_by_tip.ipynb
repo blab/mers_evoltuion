{
 "cells": [
  {
   "cell_type": "code",
   "execution_count": 155,
   "metadata": {},
   "outputs": [],
   "source": [
    "import json\n",
    "from augur.utils import json_to_tree\n",
    "tree_file = '../nextstrain-build/phylogenetic/auspice/mers.json'"
   ]
  },
  {
   "cell_type": "code",
   "execution_count": 156,
   "metadata": {},
   "outputs": [],
   "source": [
    "#read in the tree\n",
    "with open(tree_file, 'r') as f:\n",
    "    tree_json = json.load(f)\n",
    "    \n",
    "\n",
    "#put tree in Bio.phylo format\n",
    "tree = json_to_tree(tree_json)\n",
    "# store the S1 mutations on each branch here\n",
    "muts_in_s1 = {}\n"
   ]
  },
  {
   "cell_type": "code",
   "execution_count": 157,
   "metadata": {},
   "outputs": [],
   "source": [
    "\n",
    "# iterate through all branches on the tree to find what mutations are there\n",
    "for node in tree.find_clades(): \n",
    "    # get the mutations on this node from the 'branch_attrs'\n",
    "    ### write code here\n",
    "    muts = node.branch_attrs.get('mutations', {})\n",
    "    # now find only the mutations that are in S1\n",
    "    ### write code here\n",
    "    s1_muts_this_node = muts.get('S1', [])\n",
    "    \n",
    "    # add this information to the 'muts_in_s1' dict,\n",
    "    # so that the dictionary will map each branch to the S1 mutations it has\n",
    "    muts_in_s1[node.name] = s1_muts_this_node"
   ]
  },
  {
   "cell_type": "code",
   "execution_count": 158,
   "metadata": {},
   "outputs": [],
   "source": [
    "# for each tip, store all S1 mutations that have happened between root and that tip \n",
    "# also store what host this tip was sampled from\n",
    "mut_and_host_info_by_tip = {}\n",
    "\n",
    "# iterate through tips only\n",
    "for node in tree.find_clades(terminal=True): \n",
    "    # get the path from root to this tip\n",
    "    path = tree.get_path(node)\n",
    "\n",
    "    # store a list of all S1 mutations along that path\n",
    "    ### write code here\n",
    "    ### do this by looking up the S1 mutations for each branch in the path (using the dict you made above)\n",
    "    ### this can be done with a for loop or with list comprehension\n",
    "    muts_on_path = []\n",
    "    for path_node in path:\n",
    "        muts_on_path += muts_in_s1[path_node.name]\n",
    "    # get the host this virus was sampled from\n",
    "    ### write code here\n",
    "    ### you can access host from 'node_attrs'\n",
    "    host = node.node_attrs.get('host', {})\n",
    "    host_name = host.get('value', {})\n",
    "    \n",
    "    # store the tip name as the key with the value being a dictionary that gives the host and S1 mutations  \n",
    "    mut_and_host_info_by_tip[node.name] = {'host': host_name, 'muts_on_path': muts_on_path}\n",
    "    \n",
    "# use json dump to save 'mut_and_host_info_by_tip' to a file\n",
    "### write code here\n",
    "with open('intermediate-results/mut_and_host_info_by_tip.json', 'w') as outfile:\n",
    "    json.dump(mut_and_host_info_by_tip, outfile)"
   ]
  }
 ],
 "metadata": {
  "kernelspec": {
   "display_name": "Python 3",
   "language": "python",
   "name": "python3"
  },
  "language_info": {
   "codemirror_mode": {
    "name": "ipython",
    "version": 3
   },
   "file_extension": ".py",
   "mimetype": "text/x-python",
   "name": "python",
   "nbconvert_exporter": "python",
   "pygments_lexer": "ipython3",
   "version": "3.12.3"
  }
 },
 "nbformat": 4,
 "nbformat_minor": 2
}
