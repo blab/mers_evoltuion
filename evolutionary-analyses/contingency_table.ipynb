{
 "cells": [
  {
   "cell_type": "code",
   "execution_count": 15,
   "metadata": {},
   "outputs": [],
   "source": [
    "import json"
   ]
  },
  {
   "cell_type": "code",
   "execution_count": 16,
   "metadata": {},
   "outputs": [],
   "source": [
    "mut_and_host_info_file = \"intermediate-results/mut_and_host_info_by_tip.json\"\n",
    "with open(mut_and_host_info_file, 'r') as infile:\n",
    "    mut_and_host_info_by_tip = json.load(infile)\n",
    "mutation_counts = {}"
   ]
  },
  {
   "cell_type": "code",
   "execution_count": 17,
   "metadata": {},
   "outputs": [],
   "source": [
    "for tip, info in mut_and_host_info_by_tip.items():\n",
    "    host = info['host']\n",
    "    muts_on_path = info['muts_on_path']\n",
    "    for mut in muts_on_path:\n",
    "        if mut not in mutation_counts:\n",
    "            mutation_counts[mut] = {'camel': 0, 'human': 0, 'human_wo': 0, 'camel_wo': 0}\n",
    "        if host == 'Camel':\n",
    "            mutation_counts[mut]['camel'] += 1\n",
    "        elif host == 'Human':\n",
    "            mutation_counts[mut]['human'] += 1"
   ]
  },
  {
   "cell_type": "code",
   "execution_count": 18,
   "metadata": {},
   "outputs": [],
   "source": [
    "total_camel_samples = sum(1 for info in mut_and_host_info_by_tip.values() if info['host'] == 'Camel')\n",
    "total_human_samples = sum(1 for info in mut_and_host_info_by_tip.values() if info['host'] == 'Human')"
   ]
  },
  {
   "cell_type": "code",
   "execution_count": 19,
   "metadata": {},
   "outputs": [],
   "source": [
    "for mut, counts in mutation_counts.items():\n",
    "    counts['camel_wo'] = total_camel_samples - counts['camel']\n",
    "    counts['human_wo'] = total_human_samples - counts['human']"
   ]
  },
  {
   "cell_type": "code",
   "execution_count": 20,
   "metadata": {},
   "outputs": [],
   "source": [
    "with open('intermediate-results/mutation_contingency_table.json', 'w') as outfile:\n",
    "    json.dump(mutation_counts, outfile, indent=4)"
   ]
  }
 ],
 "metadata": {
  "kernelspec": {
   "display_name": "Python 3",
   "language": "python",
   "name": "python3"
  },
  "language_info": {
   "codemirror_mode": {
    "name": "ipython",
    "version": 3
   },
   "file_extension": ".py",
   "mimetype": "text/x-python",
   "name": "python",
   "nbconvert_exporter": "python",
   "pygments_lexer": "ipython3",
   "version": "3.12.3"
  }
 },
 "nbformat": 4,
 "nbformat_minor": 2
}
