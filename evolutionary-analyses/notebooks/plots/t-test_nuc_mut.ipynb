{
 "cells": [
  {
   "cell_type": "code",
   "execution_count": 4,
   "metadata": {},
   "outputs": [],
   "source": [
    "from scipy.stats import ttest_ind\n",
    "import scipy.stats\n",
    "import numpy as np\n",
    "import pandas as pd\n",
    "import math\n",
    "file = '../../intermediate-results-downsampling/nuc_mutations_by_gene.csv'\n",
    "df = pd.read_csv(file)"
   ]
  },
  {
   "cell_type": "code",
   "execution_count": 5,
   "metadata": {},
   "outputs": [
    {
     "name": "stdout",
     "output_type": "stream",
     "text": [
      "   Mutation   Host       mean        std        se  confidence_interval\n",
      "0    A_to_C  Camel   1.692308   4.047411  0.793763             3.269570\n",
      "1    A_to_C  Human   0.461538   0.760567  0.149159             0.614399\n",
      "2    A_to_G  Camel   6.230769   8.538420  1.674522             6.897485\n",
      "3    A_to_G  Human   2.346154   3.898126  0.764485             3.148974\n",
      "4    A_to_T  Camel   1.923077   2.827339  0.554487             2.283974\n",
      "5    A_to_T  Human   0.653846   1.164210  0.228320             0.940469\n",
      "6    C_to_A  Camel   2.769231   3.178776  0.623409             2.567871\n",
      "7    C_to_A  Human   0.884615   1.395046  0.273591             1.126943\n",
      "8    C_to_G  Camel   1.038462   1.821664  0.357258             1.471572\n",
      "9    C_to_G  Human   0.384615   0.752432  0.147564             0.607828\n",
      "10   C_to_T  Camel  32.038462  33.391593  6.548630            26.974312\n",
      "11   C_to_T  Human   9.500000   9.563472  1.875551             7.725540\n",
      "12   G_to_A  Camel   7.269231   8.263451  1.620596             6.675360\n",
      "13   G_to_A  Human   2.115385   3.314537  0.650034             2.677541\n",
      "14   G_to_C  Camel   1.923077   2.560048  0.502067             2.068052\n",
      "15   G_to_C  Human   0.807692   1.200641  0.235465             0.969899\n",
      "16   G_to_T  Camel   8.153846   8.345980  1.636781             6.742029\n",
      "17   G_to_T  Human   2.653846   3.186751  0.624973             2.574314\n",
      "18   T_to_A  Camel   1.923077   3.005636  0.589454             2.428005\n",
      "19   T_to_A  Human   0.384615   0.897861  0.176085             0.725308\n",
      "20   T_to_C  Camel  21.000000  21.907076  4.296331            17.696919\n",
      "21   T_to_C  Human   4.307692   5.394584  1.057965             4.357839\n",
      "22   T_to_G  Camel   2.846154   3.574267  0.700971             2.887355\n",
      "23   T_to_G  Human   0.807692   0.938903  0.184134             0.758462\n"
     ]
    }
   ],
   "source": [
    "stats_df = df.groupby(['Mutation', 'Host'])['Count'].agg(['mean', 'std']).reset_index()\n",
    "n = 26 # number of genes\n",
    "confidence = 0.95 # confidence interval \n",
    "stats_df = stats_df.assign(se=stats_df['std'] / math.sqrt(n))\n",
    "h = stats_df['se'] * scipy.stats.t.ppf((1 + confidence) / 2., n-1)\n",
    "ci = h * 2\n",
    "stats_df = stats_df.assign(confidence_interval=ci)                         \n",
    "print(stats_df)"
   ]
  },
  {
   "cell_type": "code",
   "execution_count": 6,
   "metadata": {},
   "outputs": [
    {
     "name": "stdout",
     "output_type": "stream",
     "text": [
      "   Mutation    t_stat     p_val\n",
      "0    A_to_T  2.116603  0.041864\n",
      "1    A_to_G  2.110312  0.042053\n",
      "2    A_to_C  1.523879  0.139269\n",
      "3    C_to_T  3.308680  0.002505\n",
      "4    C_to_A  2.768229  0.009026\n",
      "5    C_to_G  1.691563  0.100072\n",
      "6    G_to_A  2.951628  0.005795\n",
      "7    G_to_T  3.139197  0.003619\n",
      "8    G_to_C  2.011368  0.051929\n",
      "9    T_to_A  2.500782  0.018201\n",
      "10   T_to_G  2.812631  0.008812\n",
      "11   T_to_C  3.772550  0.000770\n"
     ]
    }
   ],
   "source": [
    "ttest_results = []\n",
    "\n",
    "mutations = df['Mutation'].unique()\n",
    "for mutation in mutations:\n",
    "    camel_counts = df[(df['Mutation'] == mutation) & (df['Host'] == 'Camel')]['Count']\n",
    "    human_counts = df[(df['Mutation'] == mutation) & (df['Host'] == 'Human')]['Count']\n",
    "    \n",
    "    t_stat, p_val = ttest_ind(camel_counts, human_counts, equal_var=False)  # Assuming unequal variances\n",
    "    ttest_results.append({\n",
    "        'Mutation': mutation,\n",
    "        't_stat': t_stat,\n",
    "        'p_val': p_val\n",
    "    })\n",
    "\n",
    "ttest_df = pd.DataFrame(ttest_results)\n",
    "print(ttest_df)\n"
   ]
  }
 ],
 "metadata": {
  "kernelspec": {
   "display_name": "Python 3",
   "language": "python",
   "name": "python3"
  },
  "language_info": {
   "codemirror_mode": {
    "name": "ipython",
    "version": 3
   },
   "file_extension": ".py",
   "mimetype": "text/x-python",
   "name": "python",
   "nbconvert_exporter": "python",
   "pygments_lexer": "ipython3",
   "version": "3.12.3"
  }
 },
 "nbformat": 4,
 "nbformat_minor": 2
}
