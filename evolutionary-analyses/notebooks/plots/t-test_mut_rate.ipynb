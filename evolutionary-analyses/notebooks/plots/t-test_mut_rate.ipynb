{
 "cells": [
  {
   "cell_type": "code",
   "execution_count": 1,
   "metadata": {},
   "outputs": [],
   "source": [
    "import scipy.stats\n",
    "import pandas as pd\n",
    "import numpy as np\n",
    "import ast\n",
    "file = '../../intermediate-results-downsampling/linear_regression_results_all.csv'\n",
    "df = pd.read_csv(file)\n",
    "info = df.to_dict()"
   ]
  },
  {
   "cell_type": "code",
   "execution_count": 2,
   "metadata": {},
   "outputs": [
    {
     "name": "stdout",
     "output_type": "stream",
     "text": [
      "                   Gene     z_stat       p_value\n",
      "0                  Nsp5  12.078131  1.378171e-33\n",
      "1                    S2  -2.781926  5.403742e-03\n",
      "2                   Hel  11.357587  6.799662e-30\n",
      "3                     E  -7.405482  1.306747e-13\n",
      "4                 Orf8b  -7.923165  2.315396e-15\n",
      "5   2Omethyltransferase   5.517365  3.441205e-08\n",
      "6                  Orf3   5.128022  2.928022e-07\n",
      "7                  Nsp3  -8.148427  3.686891e-16\n",
      "8                  Nsp9   3.384787  7.123352e-04\n",
      "9                  Nsp1  -4.371100  1.236221e-05\n",
      "10               NendoU  -3.736617  1.865124e-04\n",
      "11                RdRpb  -5.043134  4.579684e-07\n",
      "12                    M  -8.746051  2.209493e-18\n",
      "13                Nsp10  -9.664079  4.284564e-22\n",
      "14                 Nsp4  -3.410227  6.490871e-04\n",
      "15                 ExoN  -9.903222  4.030754e-23\n",
      "16                Orf4a -11.178236  5.211560e-29\n",
      "17                 Nsp6   6.471546  9.700490e-11\n"
     ]
    }
   ],
   "source": [
    "ztest_results = []\n",
    "alpha = 0.01\n",
    "for gene in info.keys():\n",
    "    if gene == 'Unnamed: 0':\n",
    "        continue\n",
    "\n",
    "    camel_stats = ast.literal_eval(info[gene][1])\n",
    "    human_stats = ast.literal_eval(info[gene][0])\n",
    "    numerator = camel_stats['slope'] - human_stats['slope']\n",
    "    denominator = pow((pow(camel_stats['se'],2)) + (pow(human_stats['se'],2)), 1/2)\n",
    "    z = numerator / denominator \n",
    "    p = scipy.stats.norm.sf(abs(z))*2\n",
    "    if p >= alpha:\n",
    "        continue\n",
    "    ztest_results.append({\n",
    "        'Gene': gene,\n",
    "        'z_stat': z,\n",
    "        'p_value': p\n",
    "    })\n",
    "\n",
    "ztest_df = pd.DataFrame(ztest_results)\n",
    "print(ztest_df)\n"
   ]
  },
  {
   "cell_type": "code",
   "execution_count": null,
   "metadata": {},
   "outputs": [],
   "source": []
  }
 ],
 "metadata": {
  "kernelspec": {
   "display_name": "Python 3",
   "language": "python",
   "name": "python3"
  },
  "language_info": {
   "codemirror_mode": {
    "name": "ipython",
    "version": 3
   },
   "file_extension": ".py",
   "mimetype": "text/x-python",
   "name": "python",
   "nbconvert_exporter": "python",
   "pygments_lexer": "ipython3",
   "version": "3.12.3"
  }
 },
 "nbformat": 4,
 "nbformat_minor": 2
}
