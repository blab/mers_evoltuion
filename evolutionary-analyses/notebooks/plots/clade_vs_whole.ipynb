{
 "cells": [
  {
   "cell_type": "code",
   "execution_count": 5,
   "metadata": {},
   "outputs": [],
   "source": [
    "import scipy.stats\n",
    "import pandas as pd\n",
    "import numpy as np\n",
    "import ast\n",
    "\n",
    "entire_file = '../../intermediate-results-downsampling/linear_regression_results_all.csv'\n",
    "entire_df = pd.read_csv(entire_file)\n",
    "entire_info = entire_df.to_dict()\n",
    "\n",
    "clade_file = '../../intermediate-results-downsampling/isolating_clade/linear_regression_results_all.csv'\n",
    "clade_df = pd.read_csv(clade_file)\n",
    "clade_info = clade_df.to_dict()\n"
   ]
  },
  {
   "cell_type": "code",
   "execution_count": 8,
   "metadata": {},
   "outputs": [],
   "source": [
    "#compare S1\n",
    "whole_s1 = ast.literal_eval(entire_info['S1'][1])\n",
    "clade_s1 = ast.literal_eval(clade_info['S1'][0])"
   ]
  },
  {
   "cell_type": "code",
   "execution_count": null,
   "metadata": {},
   "outputs": [],
   "source": [
    "#compare Nsp3\n"
   ]
  }
 ],
 "metadata": {
  "kernelspec": {
   "display_name": "Python 3",
   "language": "python",
   "name": "python3"
  },
  "language_info": {
   "codemirror_mode": {
    "name": "ipython",
    "version": 3
   },
   "file_extension": ".py",
   "mimetype": "text/x-python",
   "name": "python",
   "nbconvert_exporter": "python",
   "pygments_lexer": "ipython3",
   "version": "3.12.3"
  }
 },
 "nbformat": 4,
 "nbformat_minor": 2
}
