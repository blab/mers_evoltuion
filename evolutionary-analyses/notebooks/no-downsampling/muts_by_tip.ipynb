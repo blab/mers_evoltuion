{
 "cells": [
  {
   "cell_type": "code",
   "execution_count": 5,
   "metadata": {},
   "outputs": [],
   "source": [
    "import json\n",
    "from augur.utils import json_to_tree\n",
    "tree_file = '../../../nextstrain-build/phylogenetic/auspice/mers.json'"
   ]
  },
  {
   "cell_type": "code",
   "execution_count": 6,
   "metadata": {},
   "outputs": [],
   "source": [
    "#read in the tree\n",
    "with open(tree_file, 'r') as f:\n",
    "    tree_json = json.load(f)\n",
    "    \n",
    "\n",
    "#put tree in Bio.phylo format\n",
    "tree = json_to_tree(tree_json)\n",
    "# store the S1 mutations on each branch here\n",
    "all_muts_by_node = {}\n"
   ]
  },
  {
   "cell_type": "code",
   "execution_count": 7,
   "metadata": {},
   "outputs": [],
   "source": [
    "\n",
    "# iterate through all branches on the tree to find what mutations are there\n",
    "for node in tree.find_clades(): \n",
    "    # get the mutations on this node from the 'branch_attrs'\n",
    "    ### write code here\n",
    "    muts = node.branch_attrs.get('mutations', {})    \n",
    "    for gene, mutations in muts.items():\n",
    "        # Ensure the node and gene are initialized in the dictionary\n",
    "        if node.name not in all_muts_by_node:\n",
    "            all_muts_by_node[node.name] = {}\n",
    "        if gene not in all_muts_by_node[node.name]:\n",
    "            all_muts_by_node[node.name][gene] = []\n",
    "        \n",
    "        # Add mutations to the list for this node and gene\n",
    "        for m in mutations:\n",
    "            if \"-\" in m: #skip over deletions and instertions\n",
    "                continue\n",
    "            else:\n",
    "                all_muts_by_node[node.name][gene].append(m)\n"
   ]
  },
  {
   "cell_type": "code",
   "execution_count": 8,
   "metadata": {},
   "outputs": [],
   "source": [
    "# for each tip, store all S1 mutations that have happened between root and that tip \n",
    "# also store what host this tip was sampled from\n",
    "mut_and_host_info_by_tip = {}\n",
    "# iterate through tips only\n",
    "for node in tree.find_clades(terminal=True): \n",
    "    # get the path from root to this tip\n",
    "    path = tree.get_path(node)\n",
    "\n",
    "    # store a list of all mutations along that path\n",
    "    ### write code here\n",
    "    ### do this by looking up the mutations for each branch in the path (using the dict you made above)\n",
    "    ### this can be done with a for loop or with list comprehension\n",
    "    muts_on_path = {}\n",
    "    for path_node in path:\n",
    "        for gene, mutations in all_muts_by_node.get(path_node.name, {}).items():\n",
    "            if gene == 'nuc':\n",
    "                continue\n",
    "            elif gene == 'Spike':\n",
    "                continue\n",
    "            if gene not in muts_on_path:\n",
    "                muts_on_path[gene] = []\n",
    "            muts_on_path[gene].extend(mutations)\n",
    "    # get the host this virus was sampled from\n",
    "    ### write code here\n",
    "    ### you can access host from 'node_attrs'\n",
    "    host = node.node_attrs.get('host', {})\n",
    "    host_name = host.get('value', {})\n",
    "    \n",
    "    # store the tip name as the key with the value being a dictionary that gives the host and S1 mutations  \n",
    "    mut_and_host_info_by_tip[node.name] = {'host': host_name, 'muts_on_path': muts_on_path}\n",
    "    \n",
    "# use json dump to save 'mut_and_host_info_by_tip' to a file\n",
    "### write code here\n",
    "with open('../../intermediate-results-nodownsampling/mut_and_host_info_by_tip.json', 'w') as outfile:\n",
    "    json.dump(mut_and_host_info_by_tip, outfile, indent=2)"
   ]
  }
 ],
 "metadata": {
  "kernelspec": {
   "display_name": "Python 3",
   "language": "python",
   "name": "python3"
  },
  "language_info": {
   "codemirror_mode": {
    "name": "ipython",
    "version": 3
   },
   "file_extension": ".py",
   "mimetype": "text/x-python",
   "name": "python",
   "nbconvert_exporter": "python",
   "pygments_lexer": "ipython3",
   "version": "3.12.3"
  }
 },
 "nbformat": 4,
 "nbformat_minor": 2
}
