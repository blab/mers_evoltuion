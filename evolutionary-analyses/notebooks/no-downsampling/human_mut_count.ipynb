{
 "cells": [
  {
   "cell_type": "code",
   "execution_count": 38,
   "metadata": {},
   "outputs": [],
   "source": [
    "import json\n",
    "from augur.utils import json_to_tree\n",
    "import pandas as pd\n",
    "from Bio import Phylo\n",
    "tree_file = '../../../nextstrain-build/phylogenetic/auspice/mers.json'\n",
    "#read in the tree\n",
    "with open(tree_file, 'r') as f:\n",
    "    tree_json = json.load(f)\n",
    "\n",
    "#put tree in Bio.phylo format\n",
    "tree = json_to_tree(tree_json)"
   ]
  },
  {
   "cell_type": "code",
   "execution_count": 39,
   "metadata": {},
   "outputs": [],
   "source": [
    "muts_per_gene_clusters = {}\n",
    "for node in tree.find_clades(terminal=True):\n",
    "    host = node.node_attrs.get('host', {})\n",
    "    if host['value'] == 'Human':\n",
    "        muts = node.branch_attrs.get('mutations', {})\n",
    "        for gene, mutations in muts.items():\n",
    "            if gene == 'nuc':\n",
    "                continue\n",
    "            elif gene == 'Spike':\n",
    "                continue\n",
    "            elif gene == 'Orf1a' or gene == 'ORF1a':\n",
    "                continue\n",
    "            elif gene == 'Orf1b' or gene == 'ORF1b':\n",
    "                continue\n",
    "            elif gene not in muts_per_gene_clusters:\n",
    "                muts_per_gene_clusters[gene] = {}\n",
    "            for m in mutations:\n",
    "                if m not in muts_per_gene_clusters[gene]:\n",
    "                    muts_per_gene_clusters[gene][m] = 1\n",
    "                else:\n",
    "                    muts_per_gene_clusters[gene][m] += 1"
   ]
  },
  {
   "cell_type": "code",
   "execution_count": 43,
   "metadata": {},
   "outputs": [
    {
     "name": "stdout",
     "output_type": "stream",
     "text": [
      "Significant mutations: {'S2': {'A332S': 3, 'T465I': 3}, 'Nsp3': {'V1150A': 3, 'R911C': 3, 'K720E': 3}, 'S1': {'R282L': 3, 'E517K': 3, 'T405I': 4}, 'Hel': {'V241A': 4}, 'N': {'A300V': 3}, 'Nsp6': {'L232F': 9}, 'Orf3': {'G85D': 3, 'L86F': 3}}\n"
     ]
    }
   ],
   "source": [
    "sig_muts = {}\n",
    "\n",
    "for gene in muts_per_gene_clusters.keys():\n",
    "    sig_muts[gene] = {}\n",
    "    for m in muts_per_gene_clusters[gene].keys():\n",
    "        if muts_per_gene_clusters[gene][m] > 2:\n",
    "            sig_muts[gene][m] = muts_per_gene_clusters[gene][m]\n",
    "filtered = {}\n",
    "for gene in sig_muts.keys():\n",
    "    if sig_muts[gene]:\n",
    "        filtered[gene] = sig_muts[gene]\n",
    "\n",
    "print(\"Significant mutations: \" + str(filtered))\n"
   ]
  }
 ],
 "metadata": {
  "kernelspec": {
   "display_name": "Python 3",
   "language": "python",
   "name": "python3"
  },
  "language_info": {
   "codemirror_mode": {
    "name": "ipython",
    "version": 3
   },
   "file_extension": ".py",
   "mimetype": "text/x-python",
   "name": "python",
   "nbconvert_exporter": "python",
   "pygments_lexer": "ipython3",
   "version": "3.12.3"
  }
 },
 "nbformat": 4,
 "nbformat_minor": 2
}
