{
 "cells": [
  {
   "cell_type": "code",
   "execution_count": 9,
   "metadata": {},
   "outputs": [],
   "source": [
    "import json"
   ]
  },
  {
   "cell_type": "code",
   "execution_count": 10,
   "metadata": {},
   "outputs": [],
   "source": [
    "mut_and_host_info_file = \"../../../intermediate-results-downsampling/isolating_clade/mut_and_host_info_by_tip.json\"\n",
    "\n",
    "with open(mut_and_host_info_file, 'r') as infile:\n",
    "    mut_and_host_info_by_tip = json.load(infile)\n",
    "mutation_counts = {}"
   ]
  },
  {
   "cell_type": "code",
   "execution_count": 11,
   "metadata": {},
   "outputs": [],
   "source": [
    "for tip, info in mut_and_host_info_by_tip.items():\n",
    "    host = info['host']\n",
    "    gene_mutations = info['muts_on_path']\n",
    "    \n",
    "    # Iterate through each gene and its mutations\n",
    "    for gene, mutations in gene_mutations.items():\n",
    "        if gene not in mutation_counts:\n",
    "            mutation_counts[gene] = {}\n",
    "        for mut in mutations:\n",
    "            if mut not in mutation_counts[gene]:\n",
    "                mutation_counts[gene][mut] = {'camel': 0, 'camel_wo': 0}\n",
    "            if host == 'Camel':\n",
    "                mutation_counts[gene][mut]['camel'] += 1"
   ]
  },
  {
   "cell_type": "code",
   "execution_count": 12,
   "metadata": {},
   "outputs": [],
   "source": [
    "total_camel_samples = sum(1 for info in mut_and_host_info_by_tip.values() if info['host'] == 'Camel')"
   ]
  },
  {
   "cell_type": "code",
   "execution_count": 13,
   "metadata": {},
   "outputs": [],
   "source": [
    "for gene, muts in mutation_counts.items():\n",
    "    for mut, counts in muts.items():\n",
    "        counts['camel_wo'] = total_camel_samples - counts['camel']"
   ]
  },
  {
   "cell_type": "code",
   "execution_count": 14,
   "metadata": {},
   "outputs": [],
   "source": [
    "with open('../../../intermediate-results-downsampling/isolating_clade/mutation_contingency_table.json', 'w') as outfile:\n",
    "    json.dump(mutation_counts, outfile, indent=2)"
   ]
  }
 ],
 "metadata": {
  "kernelspec": {
   "display_name": "Python 3",
   "language": "python",
   "name": "python3"
  },
  "language_info": {
   "codemirror_mode": {
    "name": "ipython",
    "version": 3
   },
   "file_extension": ".py",
   "mimetype": "text/x-python",
   "name": "python",
   "nbconvert_exporter": "python",
   "pygments_lexer": "ipython3",
   "version": "3.12.3"
  }
 },
 "nbformat": 4,
 "nbformat_minor": 2
}
