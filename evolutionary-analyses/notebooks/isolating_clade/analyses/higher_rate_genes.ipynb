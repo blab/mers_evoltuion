{
 "cells": [
  {
   "cell_type": "code",
   "execution_count": 152,
   "metadata": {},
   "outputs": [],
   "source": [
    "import json\n",
    "from augur.utils import json_to_tree\n",
    "from Bio import Phylo\n",
    "tree_file = '../../../../nextstrain-build/phylogenetic_only_camels/auspice/mers.json'\n",
    "#read in the tree\n",
    "with open(tree_file, 'r') as f:\n",
    "    tree_json = json.load(f)\n",
    "\n",
    "#put tree in Bio.phylo format\n",
    "tree = json_to_tree(tree_json)"
   ]
  },
  {
   "cell_type": "code",
   "execution_count": 153,
   "metadata": {},
   "outputs": [],
   "source": [
    "genes = [\"Orf3\", \"Orf4a\", \"RdRpb\", \"2Omethyltransferase\"]"
   ]
  },
  {
   "cell_type": "code",
   "execution_count": 154,
   "metadata": {},
   "outputs": [
    {
     "name": "stdout",
     "output_type": "stream",
     "text": [
      "{'Orf3': {'E78D': 1, 'C38F': 2, 'L26F': 2, 'S92X': 1, 'V93-': 3, 'N94-': 2, 'L95-': 2, 'F96-': 1, 'D97X': 1, 'Y100X': 1, 'S101-': 1, 'V102-': 1, 'N103X': 1, '*104X': 3, 'S81-': 1, 'T82-': 1, 'H83-': 1, 'D84-': 1, 'G85-': 1, 'P86X': 1, 'T91K': 1, 'V98F': 1, 'G99D': 1, 'H89X': 2, 'X89Y': 1, '-96X': 1, 'X97D': 1, 'X100Y': 1, '-101S': 1, '-102L': 1, 'X103F': 1, 'T82I': 1, 'X89-': 1, 'V90-': 2, 'T91-': 3, 'X92-': 1, '-93X': 1, '-94I': 1, 'X97-': 1, 'V98-': 2, 'G99-': 2, 'X100-': 1, 'S67L': 2, 'P86F': 4, 'F96X': 1, 'D97-': 1, 'Y100-': 1, 'N103D': 2, 'G85D': 3, 'S101X': 1, 'T87N': 2, 'F86-': 2, 'T87-': 1, 'E88-': 2, 'H89-': 1, 'S92-': 2, 'X96-': 1, '-100X': 1, 'S101P': 1, 'G85V': 1, 'T87I': 1, 'S79L': 1, 'I87T': 1, 'L26I': 1, 'L17F': 16, 'A21T': 1, 'V62I': 1, 'S64F': 1, 'P25S': 1, 'V28I': 1, 'T87X': 1, 'X87N': 1, 'X104*': 1, 'D85X': 1, 'X87-': 1, 'V90F': 1, 'L9F': 1, 'S16A': 1, 'S81L': 1, 'T20I': 1, 'R77C': 1, 'G69D': 1, 'L17V': 1, 'F22S': 2, 'S64P': 1, 'D50Y': 1, 'G85T': 1, 'P86L': 8, 'L86F': 3, 'S92I': 1, 'F96L': 1, 'C43F': 1, 'T46I': 8, 'I46T': 8, 'F17L': 2, 'Y55F': 1, 'S79F': 1, 'A47T': 1, 'T51I': 1, 'L86P': 3, 'V62F': 6, 'P7L': 1, 'V98I': 1, 'A47D': 1, 'V73F': 1, 'P6L': 1, 'T80I': 1, 'F62V': 1, 'R77L': 1}, 'RdRpb': {'V175L': 1, 'T264I': 1, 'G143D': 1, 'V103F': 2, 'F381L': 1, 'M701I': 1, 'M189I': 1, 'L354V': 1, 'V794L': 1, 'D86V': 1, 'S132I': 1, 'D518N': 1, 'A192D': 1, 'T313I': 1, 'I555L': 1, 'M240I': 1, 'P92L': 1, 'S919G': 1, 'T429M': 1, 'H891Y': 1, 'D55N': 1, 'V237M': 1, 'A369S': 1, 'A627S': 1, 'Q177K': 1, 'I226V': 1, 'A578V': 1, 'F852S': 1, 'C337Y': 1, 'L364W': 1, 'A551V': 1, 'A192T': 1, 'A192S': 1}, '2Omethyltransferase': {'E144D': 1, 'G222D': 1, 'P258S': 1, 'T91I': 1, 'E102D': 1, 'A10S': 1, 'A162S': 1, 'T235I': 1, 'A28V': 1, 'R38C': 1, 'H9R': 1, 'Q277H': 1, 'F112L': 1, 'H9Y': 1, 'G121S': 2, 'I128M': 1}, 'Orf4a': {'P42S': 1, 'S61F': 1, 'S95L': 1, 'E104*': 2, 'S101T': 1, 'T101I': 1, 'P34S': 1, 'E102D': 1, 'T33I': 1, 'S39P': 1, 'E104Q': 2, 'E102Q': 16, 'P106S': 2, 'S106P': 8, 'W11R': 1, 'T38S': 1, 'S57F': 1, 'Q102E': 6, 'C22F': 1, 'L6M': 1, 'S39A': 1}}\n"
     ]
    }
   ],
   "source": [
    "muts_per_gene_clusters = {}\n",
    "for node in tree.find_clades():\n",
    "    muts = node.branch_attrs.get('mutations', {})\n",
    "    for gene, mutations in muts.items():\n",
    "        if gene in genes:\n",
    "            if gene not in muts_per_gene_clusters:\n",
    "                muts_per_gene_clusters[gene] = {}\n",
    "            for m in mutations:\n",
    "                if m not in muts_per_gene_clusters[gene]:\n",
    "                    muts_per_gene_clusters[gene][m] = 1\n",
    "                else:\n",
    "                    muts_per_gene_clusters[gene][m] += 1\n",
    "\n",
    "print(muts_per_gene_clusters)"
   ]
  },
  {
   "cell_type": "code",
   "execution_count": 155,
   "metadata": {},
   "outputs": [
    {
     "name": "stdout",
     "output_type": "stream",
     "text": [
      "Premature stop codons: {'Orf3': {'S92X': 1, 'D97X': 1, 'Y100X': 1, 'N103X': 1, '*104X': 3, 'P86X': 1, 'H89X': 2, 'X89Y': 1, '-96X': 1, 'X97D': 1, 'X100Y': 1, 'X103F': 1, 'X89-': 1, 'X92-': 1, '-93X': 1, 'X97-': 1, 'X100-': 1, 'F96X': 1, 'S101X': 1, 'X96-': 1, '-100X': 1, 'T87X': 1, 'X87N': 1, 'X104*': 1, 'D85X': 1, 'X87-': 1}, 'Orf4a': {}, 'RdRpb': {}, '2Omethyltransferase': {}}\n",
      "Significant mutations: {'Orf3': {'P86F': 4, 'L17F': 16, 'P86L': 8, 'T46I': 8, 'I46T': 8, 'V62F': 6}, 'Orf4a': {'E102Q': 16, 'S106P': 8, 'Q102E': 6}, 'RdRpb': {}, '2Omethyltransferase': {}}\n",
      "Fixed mutations: {'Orf3': {'S67L': 51, 'L17F': 186, 'P86L': 167, 'T46I': 236, 'I46T': 178}, 'Orf4a': {'E102Q': 211, 'P106S': 303, 'Q102E': 138}, 'RdRpb': {}, '2Omethyltransferase': {}}\n"
     ]
    }
   ],
   "source": [
    "sig_muts = {}\n",
    "premature_stop = {}\n",
    "mutations_to_count = []\n",
    "for gene in genes:\n",
    "    sig_muts[gene] = {}\n",
    "    premature_stop[gene] = {}\n",
    "    for m in muts_per_gene_clusters[gene].keys():\n",
    "        mutations_to_count.append(m)\n",
    "        if \"X\" in m:\n",
    "            premature_stop[gene][m] = muts_per_gene_clusters[gene][m]\n",
    "        if muts_per_gene_clusters[gene][m] > 3:\n",
    "            sig_muts[gene][m] = muts_per_gene_clusters[gene][m]\n",
    "\n",
    "all_muts_by_node = {}\n",
    "for node in tree.find_clades(): \n",
    "    # get the mutations on this node from the 'branch_attrs'\n",
    "    ### write code here\n",
    "    muts = node.branch_attrs.get('mutations', {})    \n",
    "    for gene, mutations in muts.items():\n",
    "        # Ensure the node and gene are initialized in the dictionary\n",
    "        if node.name not in all_muts_by_node:\n",
    "            all_muts_by_node[node.name] = {}\n",
    "        if gene not in all_muts_by_node[node.name]:\n",
    "            all_muts_by_node[node.name][gene] = []\n",
    "        \n",
    "        # Add mutations to the list for this node and gene\n",
    "        for m in mutations:\n",
    "                all_muts_by_node[node.name][gene].append(m)\n",
    "\n",
    "terminal_count = {}\n",
    "for node in tree.find_clades(terminal=True):\n",
    "    path = tree.get_path(node)\n",
    "    for path_node in path:\n",
    "        for gene, mutations in all_muts_by_node.get(path_node.name, {}).items():\n",
    "            if gene in genes:\n",
    "                if gene not in terminal_count:\n",
    "                    terminal_count[gene] = {}\n",
    "                for m in mutations:\n",
    "                    if m in mutations_to_count:\n",
    "                        if m not in terminal_count[gene]:\n",
    "                            terminal_count[gene][m] = 1\n",
    "                        else:\n",
    "                            terminal_count[gene][m] += 1\n",
    "\n",
    "fixed_muts = {}\n",
    "for gene in genes:\n",
    "    fixed_muts[gene] = {}\n",
    "    for m in terminal_count[gene].keys():\n",
    "        if terminal_count[gene][m] > 50:\n",
    "            fixed_muts[gene][m] = terminal_count[gene][m]\n",
    "print(\"Premature stop codons: \" + str(premature_stop))\n",
    "print(\"Significant mutations: \" + str(sig_muts))\n",
    "print(\"Fixed mutations: \" + str(fixed_muts))"
   ]
  },
  {
   "cell_type": "code",
   "execution_count": null,
   "metadata": {},
   "outputs": [],
   "source": []
  }
 ],
 "metadata": {
  "kernelspec": {
   "display_name": "Python 3",
   "language": "python",
   "name": "python3"
  },
  "language_info": {
   "codemirror_mode": {
    "name": "ipython",
    "version": 3
   },
   "file_extension": ".py",
   "mimetype": "text/x-python",
   "name": "python",
   "nbconvert_exporter": "python",
   "pygments_lexer": "ipython3",
   "version": "3.12.3"
  }
 },
 "nbformat": 4,
 "nbformat_minor": 2
}
