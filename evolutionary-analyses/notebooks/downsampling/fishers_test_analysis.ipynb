{
 "cells": [
  {
   "cell_type": "code",
   "execution_count": 13,
   "metadata": {},
   "outputs": [],
   "source": [
    "import json\n",
    "\n",
    "fishers_test_file = \"../../intermediate-results-downsampling/fishers_test.json\"\n",
    "with open(fishers_test_file, 'r') as infile:\n",
    "    fishers_test = json.load(infile)"
   ]
  },
  {
   "cell_type": "code",
   "execution_count": 14,
   "metadata": {},
   "outputs": [],
   "source": [
    "alpha = 0.01\n",
    "enriched_in_humans = {}\n",
    "for gene, mutations in fishers_test.items():\n",
    "    for mutation, results in mutations.items():\n",
    "        p_value = results['p-value']\n",
    "        if p_value <= alpha:\n",
    "            if gene not in enriched_in_humans:\n",
    "                enriched_in_humans[gene] = []\n",
    "            enriched_in_humans[gene].append(mutation)"
   ]
  },
  {
   "cell_type": "code",
   "execution_count": 15,
   "metadata": {},
   "outputs": [],
   "source": [
    "with open('../../intermediate-results-downsampling/fishers_test_analysis.json', 'w') as outfile:\n",
    "    json.dump(enriched_in_humans, outfile, indent=4)"
   ]
  }
 ],
 "metadata": {
  "kernelspec": {
   "display_name": "Python 3",
   "language": "python",
   "name": "python3"
  },
  "language_info": {
   "codemirror_mode": {
    "name": "ipython",
    "version": 3
   },
   "file_extension": ".py",
   "mimetype": "text/x-python",
   "name": "python",
   "nbconvert_exporter": "python",
   "pygments_lexer": "ipython3",
   "version": "3.12.3"
  }
 },
 "nbformat": 4,
 "nbformat_minor": 2
}
