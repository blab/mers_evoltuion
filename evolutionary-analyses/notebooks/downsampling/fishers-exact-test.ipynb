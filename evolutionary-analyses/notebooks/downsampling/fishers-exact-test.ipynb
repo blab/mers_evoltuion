{
 "cells": [
  {
   "cell_type": "code",
   "execution_count": 9,
   "metadata": {},
   "outputs": [],
   "source": [
    "#H0: The probability of the mutation occuring is the same in humans and camels.\n",
    "\n",
    "#H1: The probability of the mutation occuring in humans is greater than the \n",
    "# probability of the mutation occuring in camels. "
   ]
  },
  {
   "cell_type": "code",
   "execution_count": 10,
   "metadata": {},
   "outputs": [],
   "source": [
    "import json\n",
    "from scipy.stats import fisher_exact\n",
    "mutation_contingency_table_file = \"../../intermediate-results-downsampling/mutation_contingency_table.json\"\n",
    "with open(mutation_contingency_table_file, 'r') as infile:\n",
    "    mutation_contingency_table = json.load(infile)"
   ]
  },
  {
   "cell_type": "code",
   "execution_count": 11,
   "metadata": {},
   "outputs": [],
   "source": [
    "# Perform Fisher's exact test for each mutation\n",
    "fishers_test = {}\n",
    "for gene, mutations in mutation_contingency_table.items():\n",
    "    for mutation, counts in mutations.items():\n",
    "        # Create a 2x2 contingency table\n",
    "        table = [\n",
    "            [counts['human'], counts['human_wo']],\n",
    "            [counts['camel'], counts['camel_wo']]\n",
    "        ]\n",
    "        # Perform Fisher's exact test\n",
    "        odds_ratio, p_value = fisher_exact(table)\n",
    "        # Store the result in the dictionary\n",
    "        if gene not in fishers_test:\n",
    "            fishers_test[gene] = {}\n",
    "        fishers_test[gene][mutation] = {\"p-value\": p_value}"
   ]
  },
  {
   "cell_type": "code",
   "execution_count": 12,
   "metadata": {},
   "outputs": [],
   "source": [
    "with open('../../intermediate-results-downsampling/fishers_test.json', 'w') as outfile:\n",
    "    json.dump(fishers_test, outfile, indent=4)"
   ]
  }
 ],
 "metadata": {
  "kernelspec": {
   "display_name": "Python 3",
   "language": "python",
   "name": "python3"
  },
  "language_info": {
   "codemirror_mode": {
    "name": "ipython",
    "version": 3
   },
   "file_extension": ".py",
   "mimetype": "text/x-python",
   "name": "python",
   "nbconvert_exporter": "python",
   "pygments_lexer": "ipython3",
   "version": "3.12.3"
  }
 },
 "nbformat": 4,
 "nbformat_minor": 2
}
